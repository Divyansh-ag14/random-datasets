{
 "cells": [
  {
   "cell_type": "markdown",
   "metadata": {},
   "source": []
  },
  {
   "cell_type": "code",
   "execution_count": null,
   "metadata": {},
   "outputs": [],
   "source": [
    "import torch\n",
    "import pandas as pd\n",
    "import numpy as np\n",
    "import torch.nn as nn\n",
    "import torch.nn.functional as F\n",
    "import matplotlib.pyplot as plt\n",
    "%matplotlib inline\n",
    "import seaborn as sns"
   ]
  },
  {
   "cell_type": "code",
   "execution_count": 4,
   "metadata": {},
   "outputs": [],
   "source": [
    "df = pd.read_csv(\"data.csv\")"
   ]
  },
  {
   "cell_type": "code",
   "execution_count": 11,
   "metadata": {},
   "outputs": [
    {
     "data": {
      "text/plain": [
       "(768, 9)"
      ]
     },
     "execution_count": 11,
     "metadata": {},
     "output_type": "execute_result"
    }
   ],
   "source": [
    "df.shape"
   ]
  },
  {
   "cell_type": "code",
   "execution_count": 5,
   "metadata": {},
   "outputs": [
    {
     "data": {
      "text/html": [
       "<div>\n",
       "<style scoped>\n",
       "    .dataframe tbody tr th:only-of-type {\n",
       "        vertical-align: middle;\n",
       "    }\n",
       "\n",
       "    .dataframe tbody tr th {\n",
       "        vertical-align: top;\n",
       "    }\n",
       "\n",
       "    .dataframe thead th {\n",
       "        text-align: right;\n",
       "    }\n",
       "</style>\n",
       "<table border=\"1\" class=\"dataframe\">\n",
       "  <thead>\n",
       "    <tr style=\"text-align: right;\">\n",
       "      <th></th>\n",
       "      <th>Pregnancies</th>\n",
       "      <th>Glucose</th>\n",
       "      <th>BloodPressure</th>\n",
       "      <th>SkinThickness</th>\n",
       "      <th>Insulin</th>\n",
       "      <th>BMI</th>\n",
       "      <th>DiabetesPedigreeFunction</th>\n",
       "      <th>Age</th>\n",
       "      <th>Outcome</th>\n",
       "    </tr>\n",
       "  </thead>\n",
       "  <tbody>\n",
       "    <tr>\n",
       "      <th>0</th>\n",
       "      <td>6</td>\n",
       "      <td>148</td>\n",
       "      <td>72</td>\n",
       "      <td>35</td>\n",
       "      <td>0</td>\n",
       "      <td>33.6</td>\n",
       "      <td>0.627</td>\n",
       "      <td>50</td>\n",
       "      <td>1</td>\n",
       "    </tr>\n",
       "    <tr>\n",
       "      <th>1</th>\n",
       "      <td>1</td>\n",
       "      <td>85</td>\n",
       "      <td>66</td>\n",
       "      <td>29</td>\n",
       "      <td>0</td>\n",
       "      <td>26.6</td>\n",
       "      <td>0.351</td>\n",
       "      <td>31</td>\n",
       "      <td>0</td>\n",
       "    </tr>\n",
       "    <tr>\n",
       "      <th>2</th>\n",
       "      <td>8</td>\n",
       "      <td>183</td>\n",
       "      <td>64</td>\n",
       "      <td>0</td>\n",
       "      <td>0</td>\n",
       "      <td>23.3</td>\n",
       "      <td>0.672</td>\n",
       "      <td>32</td>\n",
       "      <td>1</td>\n",
       "    </tr>\n",
       "    <tr>\n",
       "      <th>3</th>\n",
       "      <td>1</td>\n",
       "      <td>89</td>\n",
       "      <td>66</td>\n",
       "      <td>23</td>\n",
       "      <td>94</td>\n",
       "      <td>28.1</td>\n",
       "      <td>0.167</td>\n",
       "      <td>21</td>\n",
       "      <td>0</td>\n",
       "    </tr>\n",
       "    <tr>\n",
       "      <th>4</th>\n",
       "      <td>0</td>\n",
       "      <td>137</td>\n",
       "      <td>40</td>\n",
       "      <td>35</td>\n",
       "      <td>168</td>\n",
       "      <td>43.1</td>\n",
       "      <td>2.288</td>\n",
       "      <td>33</td>\n",
       "      <td>1</td>\n",
       "    </tr>\n",
       "  </tbody>\n",
       "</table>\n",
       "</div>"
      ],
      "text/plain": [
       "   Pregnancies  Glucose  BloodPressure  SkinThickness  Insulin   BMI  \\\n",
       "0            6      148             72             35        0  33.6   \n",
       "1            1       85             66             29        0  26.6   \n",
       "2            8      183             64              0        0  23.3   \n",
       "3            1       89             66             23       94  28.1   \n",
       "4            0      137             40             35      168  43.1   \n",
       "\n",
       "   DiabetesPedigreeFunction  Age  Outcome  \n",
       "0                     0.627   50        1  \n",
       "1                     0.351   31        0  \n",
       "2                     0.672   32        1  \n",
       "3                     0.167   21        0  \n",
       "4                     2.288   33        1  "
      ]
     },
     "execution_count": 5,
     "metadata": {},
     "output_type": "execute_result"
    }
   ],
   "source": [
    "df.head()"
   ]
  },
  {
   "cell_type": "code",
   "execution_count": 6,
   "metadata": {},
   "outputs": [
    {
     "data": {
      "text/plain": [
       "Pregnancies                 0\n",
       "Glucose                     0\n",
       "BloodPressure               0\n",
       "SkinThickness               0\n",
       "Insulin                     0\n",
       "BMI                         0\n",
       "DiabetesPedigreeFunction    0\n",
       "Age                         0\n",
       "Outcome                     0\n",
       "dtype: int64"
      ]
     },
     "execution_count": 6,
     "metadata": {},
     "output_type": "execute_result"
    }
   ],
   "source": [
    "df.isna().sum()"
   ]
  },
  {
   "cell_type": "code",
   "execution_count": 7,
   "metadata": {},
   "outputs": [],
   "source": [
    "X=df.drop('Outcome',axis=1).values### independent features\n",
    "y=df['Outcome'].values###dependent features"
   ]
  },
  {
   "cell_type": "code",
   "execution_count": 8,
   "metadata": {},
   "outputs": [],
   "source": [
    "from sklearn.model_selection import train_test_split\n",
    "\n",
    "X_train,X_test,y_train,y_test=train_test_split(X,y,test_size=0.2,random_state=0)"
   ]
  },
  {
   "cell_type": "code",
   "execution_count": 22,
   "metadata": {},
   "outputs": [
    {
     "name": "stdout",
     "output_type": "stream",
     "text": [
      "torch.Size([614, 8])\n"
     ]
    }
   ],
   "source": [
    "print(X_train.shape)"
   ]
  },
  {
   "cell_type": "code",
   "execution_count": 10,
   "metadata": {},
   "outputs": [],
   "source": [
    "X_train=torch.FloatTensor(X_train)\n",
    "X_test=torch.FloatTensor(X_test)\n",
    "y_train=torch.LongTensor(y_train)\n",
    "y_test=torch.LongTensor(y_test)"
   ]
  },
  {
   "cell_type": "code",
   "execution_count": 43,
   "metadata": {},
   "outputs": [],
   "source": [
    "class SimpleANN(nn.Module):\n",
    "    def __init__(self, input_features=8, hidden1=20, hidden2=20, out_features=2):\n",
    "        super().__init__()\n",
    "        self.f_connected1 = nn.Linear(input_features, hidden1)\n",
    "        self.f_connected2 = nn.Linear(hidden1, hidden2)\n",
    "        self.out = nn.Linear(hidden2, out_features)\n",
    "        \n",
    "    def forward(self, x):\n",
    "        x = F.relu(self.f_connected1(x))\n",
    "        x = F.relu(self.f_connected2(x))\n",
    "        x = self.out(x)\n",
    "        return x\n",
    "        "
   ]
  },
  {
   "cell_type": "code",
   "execution_count": 63,
   "metadata": {},
   "outputs": [],
   "source": [
    "torch.manual_seed(20)\n",
    "ann = SimpleANN()"
   ]
  },
  {
   "cell_type": "code",
   "execution_count": 64,
   "metadata": {},
   "outputs": [
    {
     "data": {
      "text/plain": [
       "<bound method Module.parameters of SimpleANN(\n",
       "  (f_connected1): Linear(in_features=8, out_features=20, bias=True)\n",
       "  (f_connected2): Linear(in_features=20, out_features=20, bias=True)\n",
       "  (out): Linear(in_features=20, out_features=2, bias=True)\n",
       ")>"
      ]
     },
     "execution_count": 64,
     "metadata": {},
     "output_type": "execute_result"
    }
   ],
   "source": [
    "ann.parameters"
   ]
  },
  {
   "cell_type": "code",
   "execution_count": 65,
   "metadata": {},
   "outputs": [
    {
     "data": {
      "text/plain": [
       "<generator object Module.parameters at 0x0000021B4DBD1148>"
      ]
     },
     "execution_count": 65,
     "metadata": {},
     "output_type": "execute_result"
    }
   ],
   "source": [
    "ann.parameters()"
   ]
  },
  {
   "cell_type": "code",
   "execution_count": 66,
   "metadata": {},
   "outputs": [],
   "source": [
    "loss_function=nn.CrossEntropyLoss()\n",
    "optim = torch.optim.Adam(ann.parameters(), lr=0.01)"
   ]
  },
  {
   "cell_type": "code",
   "execution_count": 67,
   "metadata": {},
   "outputs": [
    {
     "name": "stdout",
     "output_type": "stream",
     "text": [
      "Epoch: 100 | Loss: 0.5063002705574036\n",
      "Epoch: 200 | Loss: 0.44328904151916504\n",
      "Epoch: 300 | Loss: 0.4042840898036957\n",
      "Epoch: 400 | Loss: 0.37870198488235474\n",
      "Epoch: 500 | Loss: 0.36796247959136963\n",
      "Epoch: 600 | Loss: 0.3643849790096283\n",
      "Epoch: 700 | Loss: 0.3220682740211487\n",
      "Epoch: 800 | Loss: 0.30313965678215027\n",
      "Epoch: 900 | Loss: 0.3857046365737915\n",
      "Epoch: 1000 | Loss: 0.2787249684333801\n",
      "Epoch: 1100 | Loss: 0.26574593782424927\n",
      "Epoch: 1200 | Loss: 0.2662355899810791\n",
      "Epoch: 1300 | Loss: 0.25911152362823486\n",
      "Epoch: 1400 | Loss: 0.2517794370651245\n",
      "Epoch: 1500 | Loss: 0.24227875471115112\n",
      "Epoch: 1600 | Loss: 0.23117274045944214\n",
      "Epoch: 1700 | Loss: 0.243038609623909\n",
      "Epoch: 1800 | Loss: 0.21759870648384094\n",
      "Epoch: 1900 | Loss: 0.21123935282230377\n",
      "Epoch: 2000 | Loss: 0.20796218514442444\n",
      "Epoch: 2100 | Loss: 0.20095902681350708\n",
      "Epoch: 2200 | Loss: 0.2007753998041153\n",
      "Epoch: 2300 | Loss: 0.2214009016752243\n",
      "Epoch: 2400 | Loss: 0.20400486886501312\n",
      "Epoch: 2500 | Loss: 0.21032239496707916\n",
      "Epoch: 2600 | Loss: 0.1886959820985794\n",
      "Epoch: 2700 | Loss: 0.18414422869682312\n",
      "Epoch: 2800 | Loss: 0.17431630194187164\n",
      "Epoch: 2900 | Loss: 0.16492921113967896\n",
      "Epoch: 3000 | Loss: 0.16097790002822876\n",
      "Epoch: 3100 | Loss: 0.16338229179382324\n",
      "Epoch: 3200 | Loss: 0.1432800590991974\n",
      "Epoch: 3300 | Loss: 0.13863472640514374\n",
      "Epoch: 3400 | Loss: 0.1555837243795395\n",
      "Epoch: 3500 | Loss: 0.2145041972398758\n",
      "Epoch: 3600 | Loss: 0.1468517929315567\n",
      "Epoch: 3700 | Loss: 0.13055714964866638\n",
      "Epoch: 3800 | Loss: 0.12556904554367065\n",
      "Epoch: 3900 | Loss: 0.16574575006961823\n",
      "Epoch: 4000 | Loss: 0.15162329375743866\n",
      "Epoch: 4100 | Loss: 0.1434166133403778\n",
      "Epoch: 4200 | Loss: 0.4726668894290924\n",
      "Epoch: 4300 | Loss: 0.1124589741230011\n",
      "Epoch: 4400 | Loss: 0.1097179725766182\n",
      "Epoch: 4500 | Loss: 0.1131337583065033\n",
      "Epoch: 4600 | Loss: 0.10351353883743286\n",
      "Epoch: 4700 | Loss: 0.12499964982271194\n",
      "Epoch: 4800 | Loss: 0.09924452751874924\n",
      "Epoch: 4900 | Loss: 0.09909704327583313\n",
      "Epoch: 5000 | Loss: 0.1051887720823288\n",
      "Epoch: 5100 | Loss: 0.09139864146709442\n",
      "Epoch: 5200 | Loss: 0.08809202164411545\n",
      "Epoch: 5300 | Loss: 0.11670948565006256\n",
      "Epoch: 5400 | Loss: 0.15454955399036407\n",
      "Epoch: 5500 | Loss: 0.08392530679702759\n",
      "Epoch: 5600 | Loss: 0.08427421748638153\n",
      "Epoch: 5700 | Loss: 0.08615518361330032\n",
      "Epoch: 5800 | Loss: 0.08111923933029175\n",
      "Epoch: 5900 | Loss: 0.09571641683578491\n",
      "Epoch: 6000 | Loss: 0.07922177761793137\n",
      "Epoch: 6100 | Loss: 0.07542246580123901\n",
      "Epoch: 6200 | Loss: 0.17816203832626343\n",
      "Epoch: 6300 | Loss: 0.07260537147521973\n",
      "Epoch: 6400 | Loss: 0.07680577039718628\n",
      "Epoch: 6500 | Loss: 0.07165558636188507\n",
      "Epoch: 6600 | Loss: 0.10496491193771362\n",
      "Epoch: 6700 | Loss: 0.06951235979795456\n",
      "Epoch: 6800 | Loss: 0.07682100683450699\n",
      "Epoch: 6900 | Loss: 0.7407140135765076\n",
      "Epoch: 7000 | Loss: 0.07117235660552979\n",
      "Epoch: 7100 | Loss: 0.06517289578914642\n",
      "Epoch: 7200 | Loss: 0.06265121698379517\n",
      "Epoch: 7300 | Loss: 0.13387322425842285\n",
      "Epoch: 7400 | Loss: 0.06040601804852486\n",
      "Epoch: 7500 | Loss: 0.1010655090212822\n",
      "Epoch: 7600 | Loss: 0.05916730314493179\n",
      "Epoch: 7700 | Loss: 0.20033422112464905\n",
      "Epoch: 7800 | Loss: 0.05656960606575012\n",
      "Epoch: 7900 | Loss: 0.05459975078701973\n",
      "Epoch: 8000 | Loss: 0.07355163246393204\n",
      "Epoch: 8100 | Loss: 0.0528189055621624\n",
      "Epoch: 8200 | Loss: 0.05020131170749664\n",
      "Epoch: 8300 | Loss: 0.06758444756269455\n",
      "Epoch: 8400 | Loss: 0.04743225872516632\n",
      "Epoch: 8500 | Loss: 0.05124080926179886\n",
      "Epoch: 8600 | Loss: 0.046562559902668\n",
      "Epoch: 8700 | Loss: 0.16948319971561432\n",
      "Epoch: 8800 | Loss: 0.045934710651636124\n",
      "Epoch: 8900 | Loss: 0.04587142542004585\n",
      "Epoch: 9000 | Loss: 0.04945772886276245\n",
      "Epoch: 9100 | Loss: 0.044453252106904984\n",
      "Epoch: 9200 | Loss: 0.08385875076055527\n",
      "Epoch: 9300 | Loss: 0.042643480002880096\n",
      "Epoch: 9400 | Loss: 0.04113277047872543\n",
      "Epoch: 9500 | Loss: 0.051376212388277054\n",
      "Epoch: 9600 | Loss: 0.0412399061024189\n",
      "Epoch: 9700 | Loss: 0.04346708208322525\n",
      "Epoch: 9800 | Loss: 0.10647495090961456\n",
      "Epoch: 9900 | Loss: 0.039483699947595596\n",
      "Epoch: 10000 | Loss: 0.6405817866325378\n",
      "time taken: 24.937820196151733\n"
     ]
    }
   ],
   "source": [
    "import time\n",
    "start = time.time()\n",
    "epochs=10000\n",
    "final_loss=[]\n",
    "\n",
    "for i in range(epochs):\n",
    "    \n",
    "    y_pred=ann.forward(X_train)\n",
    "    loss=loss_function(y_pred,y_train)\n",
    "    \n",
    "    final_loss.append(loss.item())\n",
    "    \n",
    "    if (i+1)%100 == 0:\n",
    "        print(f\"Epoch: {i+1} | Loss: {loss.item()}\")\n",
    "        \n",
    "    optim.zero_grad()\n",
    "    loss.backward()\n",
    "    optim.step()\n",
    "    \n",
    "end = time.time()\n",
    "\n",
    "print(\"time taken:\", end-start)"
   ]
  },
  {
   "cell_type": "code",
   "execution_count": 69,
   "metadata": {},
   "outputs": [
    {
     "data": {
      "text/plain": [
       "Text(0.5, 0, 'Epoch')"
      ]
     },
     "execution_count": 69,
     "metadata": {},
     "output_type": "execute_result"
    },
    {
     "data": {
      "image/png": "[encoded data removed]",
      "text/plain": [
       "<Figure size 432x288 with 1 Axes>"
      ]
     },
     "metadata": {
      "needs_background": "light"
     },
     "output_type": "display_data"
    }
   ],
   "source": [
    "plt.plot(range(epochs),final_loss)\n",
    "plt.ylabel('Loss')\n",
    "plt.xlabel('Epoch')"
   ]
  },
  {
   "cell_type": "code",
   "execution_count": 72,
   "metadata": {},
   "outputs": [
    {
     "name": "stdout",
     "output_type": "stream",
     "text": [
      "tensor([14.8139, 29.8733])\n",
      "1\n",
      "----------\n",
      "tensor([ 11.1568, -11.9420])\n",
      "0\n",
      "----------\n",
      "tensor([-5.5015,  5.7348])\n",
      "1\n",
      "----------\n",
      "tensor([6.8937, 3.8641])\n",
      "0\n",
      "----------\n",
      "tensor([27.4362, -7.2696])\n",
      "0\n",
      "----------\n",
      "tensor([ 6.8039, -7.4108])\n",
      "0\n",
      "----------\n",
      "tensor([-5.8554,  3.8504])\n",
      "1\n",
      "----------\n",
      "tensor([ 2.2768, 10.4183])\n",
      "1\n",
      "----------\n",
      "tensor([1.5687, 0.3110])\n",
      "0\n",
      "----------\n",
      "tensor([ 6.4357, -5.3342])\n",
      "0\n",
      "----------\n",
      "tensor([-3.6359,  9.0132])\n",
      "1\n",
      "----------\n",
      "tensor([2.4198, 8.3326])\n",
      "1\n",
      "----------\n",
      "tensor([11.8897, -1.5394])\n",
      "0\n",
      "----------\n",
      "tensor([-7.3564,  7.4225])\n",
      "1\n",
      "----------\n",
      "tensor([ 9.0774, -8.4395])\n",
      "0\n",
      "----------\n",
      "tensor([4.2240, 9.3687])\n",
      "1\n",
      "----------\n",
      "tensor([ 6.6458, 10.3485])\n",
      "1\n",
      "----------\n",
      "tensor([6.1180, 3.7330])\n",
      "0\n",
      "----------\n",
      "tensor([ 2.7879, 11.4387])\n",
      "1\n",
      "----------\n",
      "tensor([ 7.0551, -3.4259])\n",
      "0\n",
      "----------\n",
      "tensor([12.5032,  7.1529])\n",
      "0\n",
      "----------\n",
      "tensor([ 49.3351, -27.4355])\n",
      "0\n",
      "----------\n",
      "tensor([ 41.4504, -14.2740])\n",
      "0\n",
      "----------\n",
      "tensor([ 43.0501, -34.4949])\n",
      "0\n",
      "----------\n",
      "tensor([ 10.0553, -11.1890])\n",
      "0\n",
      "----------\n",
      "tensor([ 2.9531, 18.7835])\n",
      "1\n",
      "----------\n",
      "tensor([15.2734,  0.5950])\n",
      "0\n",
      "----------\n",
      "tensor([-12.2094,   6.6268])\n",
      "1\n",
      "----------\n",
      "tensor([22.9019, -4.9139])\n",
      "0\n",
      "----------\n",
      "tensor([8.0686, 3.1437])\n",
      "0\n",
      "----------\n",
      "tensor([3.3135, 4.3328])\n",
      "1\n",
      "----------\n",
      "tensor([ 8.4512, -2.4561])\n",
      "0\n",
      "----------\n",
      "tensor([ 29.6948, -29.5103])\n",
      "0\n",
      "----------\n",
      "tensor([0.6052, 7.0243])\n",
      "1\n",
      "----------\n",
      "tensor([ 1.5994e+01, -1.3199e-02])\n",
      "0\n",
      "----------\n",
      "tensor([17.4499, 10.0835])\n",
      "0\n",
      "----------\n",
      "tensor([-5.6872,  1.6683])\n",
      "1\n",
      "----------\n",
      "tensor([ 26.4970, -21.8833])\n",
      "0\n",
      "----------\n",
      "tensor([ 0.3913, 10.4145])\n",
      "1\n",
      "----------\n",
      "tensor([18.8659,  8.6557])\n",
      "0\n",
      "----------\n",
      "tensor([9.1587, 2.3847])\n",
      "0\n",
      "----------\n",
      "tensor([ 33.8085, -23.0381])\n",
      "0\n",
      "----------\n",
      "tensor([ 9.5208, -3.3267])\n",
      "0\n",
      "----------\n",
      "tensor([17.7343, 24.7608])\n",
      "1\n",
      "----------\n",
      "tensor([-1.6258, 17.5303])\n",
      "1\n",
      "----------\n",
      "tensor([23.6975, -8.0890])\n",
      "0\n",
      "----------\n",
      "tensor([11.6151,  2.5885])\n",
      "0\n",
      "----------\n",
      "tensor([11.9213,  2.2903])\n",
      "0\n",
      "----------\n",
      "tensor([ 8.5252, -3.5855])\n",
      "0\n",
      "----------\n",
      "tensor([6.0752, 7.4634])\n",
      "1\n",
      "----------\n",
      "tensor([10.4949,  1.6090])\n",
      "0\n",
      "----------\n",
      "tensor([9.1660, 2.9880])\n",
      "0\n",
      "----------\n",
      "tensor([-0.9308, -3.6185])\n",
      "0\n",
      "----------\n",
      "tensor([5.4414, 8.2610])\n",
      "1\n",
      "----------\n",
      "tensor([-11.3697,   3.3361])\n",
      "1\n",
      "----------\n",
      "tensor([ 10.0122, -17.5288])\n",
      "0\n",
      "----------\n",
      "tensor([7.1767, 1.6835])\n",
      "0\n",
      "----------\n",
      "tensor([ 23.5890, -13.1253])\n",
      "0\n",
      "----------\n",
      "tensor([14.9256,  7.6095])\n",
      "0\n",
      "----------\n",
      "tensor([18.1191,  9.5215])\n",
      "0\n",
      "----------\n",
      "tensor([ 0.7184, -3.5637])\n",
      "0\n",
      "----------\n",
      "tensor([ 2.7415, -5.2200])\n",
      "0\n",
      "----------\n",
      "tensor([26.4277, -3.5033])\n",
      "0\n",
      "----------\n",
      "tensor([15.9702, 30.5594])\n",
      "1\n",
      "----------\n",
      "tensor([24.0392, 12.6927])\n",
      "0\n",
      "----------\n",
      "tensor([18.8979, 18.4412])\n",
      "0\n",
      "----------\n",
      "tensor([10.0727,  4.8159])\n",
      "0\n",
      "----------\n",
      "tensor([15.8374, -0.4142])\n",
      "0\n",
      "----------\n",
      "tensor([7.4033, 5.7366])\n",
      "0\n",
      "----------\n",
      "tensor([ 7.6592, -9.3865])\n",
      "0\n",
      "----------\n",
      "tensor([17.1004, -3.4580])\n",
      "0\n",
      "----------\n",
      "tensor([15.4521, 13.7682])\n",
      "0\n",
      "----------\n",
      "tensor([4.5657, 1.2913])\n",
      "0\n",
      "----------\n",
      "tensor([ 1.9156, 23.8011])\n",
      "1\n",
      "----------\n",
      "tensor([17.5328, 15.6464])\n",
      "0\n",
      "----------\n",
      "tensor([12.6742,  4.0261])\n",
      "0\n",
      "----------\n",
      "tensor([ 35.9981, -42.9803])\n",
      "0\n",
      "----------\n",
      "tensor([0.7387, 8.0137])\n",
      "1\n",
      "----------\n",
      "tensor([ 8.9147, -8.1746])\n",
      "0\n",
      "----------\n",
      "tensor([5.2053, 3.5712])\n",
      "0\n",
      "----------\n",
      "tensor([-5.7776,  4.2770])\n",
      "1\n",
      "----------\n",
      "tensor([ 9.9311, -2.4368])\n",
      "0\n",
      "----------\n",
      "tensor([ 7.9632, -6.7596])\n",
      "0\n",
      "----------\n",
      "tensor([15.2672, -5.5354])\n",
      "0\n",
      "----------\n",
      "tensor([6.0332, 2.8403])\n",
      "0\n",
      "----------\n",
      "tensor([-8.6894,  9.9329])\n",
      "1\n",
      "----------\n",
      "tensor([20.4291,  8.9518])\n",
      "0\n",
      "----------\n",
      "tensor([ 7.3363, -0.6947])\n",
      "0\n",
      "----------\n",
      "tensor([-0.3781,  9.7085])\n",
      "1\n",
      "----------\n",
      "tensor([ 14.1658, -18.3912])\n",
      "0\n",
      "----------\n",
      "tensor([17.5065, -2.2545])\n",
      "0\n",
      "----------\n",
      "tensor([17.4522,  1.2933])\n",
      "0\n",
      "----------\n",
      "tensor([10.8319, -0.7219])\n",
      "0\n",
      "----------\n",
      "tensor([ 33.6757, -30.2936])\n",
      "0\n",
      "----------\n",
      "tensor([5.7005, 8.3131])\n",
      "1\n",
      "----------\n",
      "tensor([7.3677, 6.8866])\n",
      "0\n",
      "----------\n",
      "tensor([ 11.5211, -14.9816])\n",
      "0\n",
      "----------\n",
      "tensor([ 1.9241, -0.6318])\n",
      "0\n",
      "----------\n",
      "tensor([12.7203, -3.4046])\n",
      "0\n",
      "----------\n",
      "tensor([10.2749,  2.9573])\n",
      "0\n",
      "----------\n",
      "tensor([ 12.5404, -17.2551])\n",
      "0\n",
      "----------\n",
      "tensor([13.7877, -5.9458])\n",
      "0\n",
      "----------\n",
      "tensor([-0.8983,  4.0175])\n",
      "1\n",
      "----------\n",
      "tensor([ 21.9515, -10.8767])\n",
      "0\n",
      "----------\n",
      "tensor([-5.2879, 25.8834])\n",
      "1\n",
      "----------\n",
      "tensor([-5.7308,  7.6942])\n",
      "1\n",
      "----------\n",
      "tensor([15.8117, -4.6891])\n",
      "0\n",
      "----------\n",
      "tensor([11.8879,  9.7761])\n",
      "0\n",
      "----------\n",
      "tensor([ 18.2071, -16.3712])\n",
      "0\n",
      "----------\n",
      "tensor([18.6777, 18.7286])\n",
      "1\n",
      "----------\n",
      "tensor([5.7063, 2.8968])\n",
      "0\n",
      "----------\n",
      "tensor([-18.2993,   7.5189])\n",
      "1\n",
      "----------\n",
      "tensor([8.1604, 9.6043])\n",
      "1\n",
      "----------\n",
      "tensor([5.9110, 3.7371])\n",
      "0\n",
      "----------\n",
      "tensor([ 7.2542, -8.1951])\n",
      "0\n",
      "----------\n",
      "tensor([10.0750,  4.6785])\n",
      "0\n",
      "----------\n",
      "tensor([  7.0933, -11.1027])\n",
      "0\n",
      "----------\n",
      "tensor([ 0.9059, 17.0584])\n",
      "1\n",
      "----------\n",
      "tensor([-0.9204, 12.8908])\n",
      "1\n",
      "----------\n",
      "tensor([ 0.2523, -5.6923])\n",
      "0\n",
      "----------\n",
      "tensor([9.1483, 3.2035])\n",
      "0\n",
      "----------\n",
      "tensor([23.3924, -7.6853])\n",
      "0\n",
      "----------\n",
      "tensor([11.5471, -9.2872])\n",
      "0\n",
      "----------\n",
      "tensor([9.0464, 1.0112])\n",
      "0\n",
      "----------\n",
      "tensor([14.0450,  7.6251])\n",
      "0\n",
      "----------\n",
      "tensor([10.3849,  1.9351])\n",
      "0\n",
      "----------\n",
      "tensor([ 15.8808, -22.7071])\n",
      "0\n",
      "----------\n",
      "tensor([7.0774, 4.3038])\n",
      "0\n",
      "----------\n",
      "tensor([19.8240, -1.0960])\n",
      "0\n",
      "----------\n",
      "tensor([28.7257,  3.3955])\n",
      "0\n",
      "----------\n",
      "tensor([12.5436,  0.9613])\n",
      "0\n",
      "----------\n",
      "tensor([20.7733,  7.8998])\n",
      "0\n",
      "----------\n",
      "tensor([16.2797, -6.3755])\n",
      "0\n",
      "----------\n",
      "tensor([-0.8691,  4.6199])\n",
      "1\n",
      "----------\n",
      "tensor([ 3.3120, -3.5609])\n",
      "0\n",
      "----------\n",
      "tensor([9.4684, 0.1649])\n",
      "0\n",
      "----------\n",
      "tensor([ 3.3000, 13.1472])\n",
      "1\n",
      "----------\n",
      "tensor([ 26.7932, -17.6122])\n",
      "0\n",
      "----------\n",
      "tensor([18.8835, 26.7800])\n",
      "1\n",
      "----------\n",
      "tensor([13.1600,  7.4743])\n",
      "0\n",
      "----------\n",
      "tensor([ 25.0609, -14.7305])\n",
      "0\n",
      "----------\n",
      "tensor([7.9697, 6.8010])\n",
      "0\n",
      "----------\n",
      "tensor([19.0900, -2.0866])\n",
      "0\n",
      "----------\n",
      "tensor([ 35.3378, -40.6802])\n",
      "0\n",
      "----------\n",
      "tensor([8.4864, 2.8565])\n",
      "0\n",
      "----------\n",
      "tensor([15.7388,  1.1520])\n",
      "0\n",
      "----------\n",
      "tensor([ 25.3196, -16.5157])\n",
      "0\n",
      "----------\n",
      "tensor([11.7733, -2.9200])\n",
      "0\n",
      "----------\n",
      "tensor([7.7730, 5.0107])\n",
      "0\n",
      "----------\n",
      "tensor([-13.1844,   5.6752])\n",
      "1\n",
      "----------\n",
      "tensor([12.4428, -7.6993])\n",
      "0\n",
      "----------\n",
      "tensor([24.8143, -7.4063])\n",
      "0\n",
      "----------\n",
      "tensor([ 13.2939, -12.6089])\n",
      "0\n",
      "----------\n",
      "tensor([10.9155, -2.7404])\n",
      "0\n",
      "----------\n"
     ]
    }
   ],
   "source": [
    "predictions=[]\n",
    "with torch.no_grad():\n",
    "    for i, data in enumerate(X_test):\n",
    "        y_pred=ann(data)\n",
    "        predictions.append(y_pred.argmax().item())\n",
    "        print(y_pred)\n",
    "        print(y_pred.argmax().item())\n",
    "        print(\"----------\")"
   ]
  },
  {
   "cell_type": "code",
   "execution_count": 73,
   "metadata": {},
   "outputs": [
    {
     "data": {
      "text/plain": [
       "array([[86, 21],\n",
       "       [28, 19]], dtype=int64)"
      ]
     },
     "execution_count": 73,
     "metadata": {},
     "output_type": "execute_result"
    }
   ],
   "source": [
    "from sklearn.metrics import confusion_matrix\n",
    "cm=confusion_matrix(y_test,predictions)\n",
    "cm"
   ]
  },
  {
   "cell_type": "code",
   "execution_count": 75,
   "metadata": {},
   "outputs": [
    {
     "data": {
      "text/plain": [
       "Text(33.0, 0.5, 'Predicted Values')"
      ]
     },
     "execution_count": 75,
     "metadata": {},
     "output_type": "execute_result"
    },
    {
     "data": {
      "image/png": "[encoded data removed]",
      "text/plain": [
       "<Figure size 432x288 with 2 Axes>"
      ]
     },
     "metadata": {
      "needs_background": "light"
     },
     "output_type": "display_data"
    }
   ],
   "source": [
    "sns.heatmap(cm, annot=True)\n",
    "plt.xlabel('Actual Values')\n",
    "plt.ylabel('Predicted Values')"
   ]
  },
  {
   "cell_type": "code",
   "execution_count": 76,
   "metadata": {},
   "outputs": [
    {
     "data": {
      "text/plain": [
       "0.6818181818181818"
      ]
     },
     "execution_count": 76,
     "metadata": {},
     "output_type": "execute_result"
    }
   ],
   "source": [
    "from sklearn.metrics import accuracy_score\n",
    "score=accuracy_score(y_test,predictions)\n",
    "score "
   ]
  },
  {
   "cell_type": "code",
   "execution_count": 78,
   "metadata": {},
   "outputs": [],
   "source": [
    "torch.save(ann,'my_ann.pt')"
   ]
  },
  {
   "cell_type": "code",
   "execution_count": 80,
   "metadata": {},
   "outputs": [],
   "source": [
    "model=torch.load('my_ann.pt')"
   ]
  },
  {
   "cell_type": "code",
   "execution_count": 81,
   "metadata": {},
   "outputs": [
    {
     "data": {
      "text/plain": [
       "SimpleANN(\n",
       "  (f_connected1): Linear(in_features=8, out_features=20, bias=True)\n",
       "  (f_connected2): Linear(in_features=20, out_features=20, bias=True)\n",
       "  (out): Linear(in_features=20, out_features=2, bias=True)\n",
       ")"
      ]
     },
     "execution_count": 81,
     "metadata": {},
     "output_type": "execute_result"
    }
   ],
   "source": [
    "model.eval()"
   ]
  },
  {
   "cell_type": "code",
   "execution_count": 90,
   "metadata": {},
   "outputs": [],
   "source": [
    "def fetch_data(df, no_of_rows=5):\n",
    "    data=[]\n",
    "    for i in range(no_of_rows):\n",
    "        data.append(list(df.iloc[i,:-1]))\n",
    "    return data"
   ]
  },
  {
   "cell_type": "code",
   "execution_count": 91,
   "metadata": {},
   "outputs": [
    {
     "data": {
      "text/plain": [
       "[[6.0, 148.0, 72.0, 35.0, 0.0, 33.6, 0.627, 50.0],\n",
       " [1.0, 85.0, 66.0, 29.0, 0.0, 26.6, 0.351, 31.0],\n",
       " [8.0, 183.0, 64.0, 0.0, 0.0, 23.3, 0.672, 32.0],\n",
       " [1.0, 89.0, 66.0, 23.0, 94.0, 28.1, 0.167, 21.0],\n",
       " [0.0, 137.0, 40.0, 35.0, 168.0, 43.1, 2.288, 33.0]]"
      ]
     },
     "execution_count": 91,
     "metadata": {},
     "output_type": "execute_result"
    }
   ],
   "source": [
    "data=fetch_data(df,5)\n",
    "data"
   ]
  },
  {
   "cell_type": "code",
   "execution_count": 92,
   "metadata": {},
   "outputs": [
    {
     "name": "stdout",
     "output_type": "stream",
     "text": [
      "[6.0, 148.0, 72.0, 35.0, 0.0, 33.6, 0.627, 50.0]\n",
      "[1.0, 85.0, 66.0, 29.0, 0.0, 26.6, 0.351, 31.0]\n",
      "[8.0, 183.0, 64.0, 0.0, 0.0, 23.3, 0.672, 32.0]\n",
      "[1.0, 89.0, 66.0, 23.0, 94.0, 28.1, 0.167, 21.0]\n",
      "[0.0, 137.0, 40.0, 35.0, 168.0, 43.1, 2.288, 33.0]\n"
     ]
    }
   ],
   "source": [
    "for i in data:\n",
    "    print(i)"
   ]
  },
  {
   "cell_type": "code",
   "execution_count": 85,
   "metadata": {},
   "outputs": [
    {
     "data": {
      "text/html": [
       "<div>\n",
       "<style scoped>\n",
       "    .dataframe tbody tr th:only-of-type {\n",
       "        vertical-align: middle;\n",
       "    }\n",
       "\n",
       "    .dataframe tbody tr th {\n",
       "        vertical-align: top;\n",
       "    }\n",
       "\n",
       "    .dataframe thead th {\n",
       "        text-align: right;\n",
       "    }\n",
       "</style>\n",
       "<table border=\"1\" class=\"dataframe\">\n",
       "  <thead>\n",
       "    <tr style=\"text-align: right;\">\n",
       "      <th></th>\n",
       "      <th>Pregnancies</th>\n",
       "      <th>Glucose</th>\n",
       "      <th>BloodPressure</th>\n",
       "      <th>SkinThickness</th>\n",
       "      <th>Insulin</th>\n",
       "      <th>BMI</th>\n",
       "      <th>DiabetesPedigreeFunction</th>\n",
       "      <th>Age</th>\n",
       "      <th>Outcome</th>\n",
       "    </tr>\n",
       "  </thead>\n",
       "  <tbody>\n",
       "    <tr>\n",
       "      <th>0</th>\n",
       "      <td>6</td>\n",
       "      <td>148</td>\n",
       "      <td>72</td>\n",
       "      <td>35</td>\n",
       "      <td>0</td>\n",
       "      <td>33.6</td>\n",
       "      <td>0.627</td>\n",
       "      <td>50</td>\n",
       "      <td>1</td>\n",
       "    </tr>\n",
       "    <tr>\n",
       "      <th>1</th>\n",
       "      <td>1</td>\n",
       "      <td>85</td>\n",
       "      <td>66</td>\n",
       "      <td>29</td>\n",
       "      <td>0</td>\n",
       "      <td>26.6</td>\n",
       "      <td>0.351</td>\n",
       "      <td>31</td>\n",
       "      <td>0</td>\n",
       "    </tr>\n",
       "    <tr>\n",
       "      <th>2</th>\n",
       "      <td>8</td>\n",
       "      <td>183</td>\n",
       "      <td>64</td>\n",
       "      <td>0</td>\n",
       "      <td>0</td>\n",
       "      <td>23.3</td>\n",
       "      <td>0.672</td>\n",
       "      <td>32</td>\n",
       "      <td>1</td>\n",
       "    </tr>\n",
       "    <tr>\n",
       "      <th>3</th>\n",
       "      <td>1</td>\n",
       "      <td>89</td>\n",
       "      <td>66</td>\n",
       "      <td>23</td>\n",
       "      <td>94</td>\n",
       "      <td>28.1</td>\n",
       "      <td>0.167</td>\n",
       "      <td>21</td>\n",
       "      <td>0</td>\n",
       "    </tr>\n",
       "    <tr>\n",
       "      <th>4</th>\n",
       "      <td>0</td>\n",
       "      <td>137</td>\n",
       "      <td>40</td>\n",
       "      <td>35</td>\n",
       "      <td>168</td>\n",
       "      <td>43.1</td>\n",
       "      <td>2.288</td>\n",
       "      <td>33</td>\n",
       "      <td>1</td>\n",
       "    </tr>\n",
       "  </tbody>\n",
       "</table>\n",
       "</div>"
      ],
      "text/plain": [
       "   Pregnancies  Glucose  BloodPressure  SkinThickness  Insulin   BMI  \\\n",
       "0            6      148             72             35        0  33.6   \n",
       "1            1       85             66             29        0  26.6   \n",
       "2            8      183             64              0        0  23.3   \n",
       "3            1       89             66             23       94  28.1   \n",
       "4            0      137             40             35      168  43.1   \n",
       "\n",
       "   DiabetesPedigreeFunction  Age  Outcome  \n",
       "0                     0.627   50        1  \n",
       "1                     0.351   31        0  \n",
       "2                     0.672   32        1  \n",
       "3                     0.167   21        0  \n",
       "4                     2.288   33        1  "
      ]
     },
     "execution_count": 85,
     "metadata": {},
     "output_type": "execute_result"
    }
   ],
   "source": [
    "df.head()"
   ]
  },
  {
   "cell_type": "code",
   "execution_count": 95,
   "metadata": {},
   "outputs": [
    {
     "name": "stdout",
     "output_type": "stream",
     "text": [
      "tensor([5.7553, 8.0201])\n",
      "1\n",
      "tensor([7.1767, 1.6835])\n",
      "0\n",
      "tensor([18.6777, 18.7286])\n",
      "1\n",
      "tensor([ 19.7952, -21.4235])\n",
      "0\n",
      "tensor([2.8481, 6.7625])\n",
      "1\n"
     ]
    }
   ],
   "source": [
    "with torch.no_grad():\n",
    "    for i in data:\n",
    "        i=torch.tensor(i)\n",
    "        print(model(i))\n",
    "        print(model(i).argmax().item())"
   ]
  },
  {
   "cell_type": "code",
   "execution_count": null,
   "metadata": {},
   "outputs": [],
   "source": []
  }
 ],
 "metadata": {
  "kernelspec": {
   "display_name": "tensor",
   "language": "python",
   "name": "python3"
  },
  "language_info": {
   "codemirror_mode": {
    "name": "ipython",
    "version": 3
   },
   "file_extension": ".py",
   "mimetype": "text/x-python",
   "name": "python",
   "nbconvert_exporter": "python",
   "pygments_lexer": "ipython3",
   "version": "3.7.13"
  },
  "orig_nbformat": 4,
  "vscode": {
   "interpreter": {
    "hash": "11cea9024f0d377440eaba48e9d7655bc3e56224c5f426395ac9dffd0677d0c7"
   }
  }
 },
 "nbformat": 4,
 "nbformat_minor": 2
}
