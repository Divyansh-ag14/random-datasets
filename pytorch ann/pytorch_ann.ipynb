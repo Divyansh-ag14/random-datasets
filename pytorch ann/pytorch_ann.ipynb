{
 "cells": [
  {
   "cell_type": "code",
   "execution_count": 9,
   "metadata": {},
   "outputs": [],
   "source": [
    "import torch\n",
    "import pandas as pd\n",
    "import numpy as np\n",
    "import torch.nn as nn\n",
    "import torch.nn.functional as F\n",
    "import matplotlib.pyplot as plt\n",
    "%matplotlib inline\n",
    "import seaborn as sns"
   ]
  },
  {
   "cell_type": "code",
   "execution_count": 4,
   "metadata": {},
   "outputs": [],
   "source": [
    "df = pd.read_csv(\"data.csv\")"
   ]
  },
  {
   "cell_type": "code",
   "execution_count": 11,
   "metadata": {},
   "outputs": [
    {
     "data": {
      "text/plain": [
       "(768, 9)"
      ]
     },
     "execution_count": 11,
     "metadata": {},
     "output_type": "execute_result"
    }
   ],
   "source": [
    "df.shape"
   ]
  },
  {
   "cell_type": "code",
   "execution_count": 5,
   "metadata": {},
   "outputs": [
    {
     "data": {
      "text/html": [
       "<div>\n",
       "<style scoped>\n",
       "    .dataframe tbody tr th:only-of-type {\n",
       "        vertical-align: middle;\n",
       "    }\n",
       "\n",
       "    .dataframe tbody tr th {\n",
       "        vertical-align: top;\n",
       "    }\n",
       "\n",
       "    .dataframe thead th {\n",
       "        text-align: right;\n",
       "    }\n",
       "</style>\n",
       "<table border=\"1\" class=\"dataframe\">\n",
       "  <thead>\n",
       "    <tr style=\"text-align: right;\">\n",
       "      <th></th>\n",
       "      <th>Pregnancies</th>\n",
       "      <th>Glucose</th>\n",
       "      <th>BloodPressure</th>\n",
       "      <th>SkinThickness</th>\n",
       "      <th>Insulin</th>\n",
       "      <th>BMI</th>\n",
       "      <th>DiabetesPedigreeFunction</th>\n",
       "      <th>Age</th>\n",
       "      <th>Outcome</th>\n",
       "    </tr>\n",
       "  </thead>\n",
       "  <tbody>\n",
       "    <tr>\n",
       "      <th>0</th>\n",
       "      <td>6</td>\n",
       "      <td>148</td>\n",
       "      <td>72</td>\n",
       "      <td>35</td>\n",
       "      <td>0</td>\n",
       "      <td>33.6</td>\n",
       "      <td>0.627</td>\n",
       "      <td>50</td>\n",
       "      <td>1</td>\n",
       "    </tr>\n",
       "    <tr>\n",
       "      <th>1</th>\n",
       "      <td>1</td>\n",
       "      <td>85</td>\n",
       "      <td>66</td>\n",
       "      <td>29</td>\n",
       "      <td>0</td>\n",
       "      <td>26.6</td>\n",
       "      <td>0.351</td>\n",
       "      <td>31</td>\n",
       "      <td>0</td>\n",
       "    </tr>\n",
       "    <tr>\n",
       "      <th>2</th>\n",
       "      <td>8</td>\n",
       "      <td>183</td>\n",
       "      <td>64</td>\n",
       "      <td>0</td>\n",
       "      <td>0</td>\n",
       "      <td>23.3</td>\n",
       "      <td>0.672</td>\n",
       "      <td>32</td>\n",
       "      <td>1</td>\n",
       "    </tr>\n",
       "    <tr>\n",
       "      <th>3</th>\n",
       "      <td>1</td>\n",
       "      <td>89</td>\n",
       "      <td>66</td>\n",
       "      <td>23</td>\n",
       "      <td>94</td>\n",
       "      <td>28.1</td>\n",
       "      <td>0.167</td>\n",
       "      <td>21</td>\n",
       "      <td>0</td>\n",
       "    </tr>\n",
       "    <tr>\n",
       "      <th>4</th>\n",
       "      <td>0</td>\n",
       "      <td>137</td>\n",
       "      <td>40</td>\n",
       "      <td>35</td>\n",
       "      <td>168</td>\n",
       "      <td>43.1</td>\n",
       "      <td>2.288</td>\n",
       "      <td>33</td>\n",
       "      <td>1</td>\n",
       "    </tr>\n",
       "  </tbody>\n",
       "</table>\n",
       "</div>"
      ],
      "text/plain": [
       "   Pregnancies  Glucose  BloodPressure  SkinThickness  Insulin   BMI  \\\n",
       "0            6      148             72             35        0  33.6   \n",
       "1            1       85             66             29        0  26.6   \n",
       "2            8      183             64              0        0  23.3   \n",
       "3            1       89             66             23       94  28.1   \n",
       "4            0      137             40             35      168  43.1   \n",
       "\n",
       "   DiabetesPedigreeFunction  Age  Outcome  \n",
       "0                     0.627   50        1  \n",
       "1                     0.351   31        0  \n",
       "2                     0.672   32        1  \n",
       "3                     0.167   21        0  \n",
       "4                     2.288   33        1  "
      ]
     },
     "execution_count": 5,
     "metadata": {},
     "output_type": "execute_result"
    }
   ],
   "source": [
    "df.head()"
   ]
  },
  {
   "cell_type": "code",
   "execution_count": 6,
   "metadata": {},
   "outputs": [
    {
     "data": {
      "text/plain": [
       "Pregnancies                 0\n",
       "Glucose                     0\n",
       "BloodPressure               0\n",
       "SkinThickness               0\n",
       "Insulin                     0\n",
       "BMI                         0\n",
       "DiabetesPedigreeFunction    0\n",
       "Age                         0\n",
       "Outcome                     0\n",
       "dtype: int64"
      ]
     },
     "execution_count": 6,
     "metadata": {},
     "output_type": "execute_result"
    }
   ],
   "source": [
    "df.isna().sum()"
   ]
  },
  {
   "cell_type": "code",
   "execution_count": 7,
   "metadata": {},
   "outputs": [],
   "source": [
    "X=df.drop('Outcome',axis=1).values### independent features\n",
    "y=df['Outcome'].values###dependent features"
   ]
  },
  {
   "cell_type": "code",
   "execution_count": 8,
   "metadata": {},
   "outputs": [],
   "source": [
    "from sklearn.model_selection import train_test_split\n",
    "\n",
    "X_train,X_test,y_train,y_test=train_test_split(X,y,test_size=0.2,random_state=0)"
   ]
  },
  {
   "cell_type": "code",
   "execution_count": 22,
   "metadata": {},
   "outputs": [
    {
     "name": "stdout",
     "output_type": "stream",
     "text": [
      "torch.Size([614, 8])\n"
     ]
    }
   ],
   "source": [
    "print(X_train.shape)"
   ]
  },
  {
   "cell_type": "code",
   "execution_count": 10,
   "metadata": {},
   "outputs": [],
   "source": [
    "X_train=torch.FloatTensor(X_train)\n",
    "X_test=torch.FloatTensor(X_test)\n",
    "y_train=torch.LongTensor(y_train)\n",
    "y_test=torch.LongTensor(y_test)"
   ]
  },
  {
   "cell_type": "code",
   "execution_count": 43,
   "metadata": {},
   "outputs": [],
   "source": [
    "class SimpleANN(nn.Module):\n",
    "    def __init__(self, input_features=8, hidden1=20, hidden2=20, out_features=2):\n",
    "        super().__init__()\n",
    "        self.f_connected1 = nn.Linear(input_features, hidden1)\n",
    "        self.f_connected2 = nn.Linear(hidden1, hidden2)\n",
    "        self.out = nn.Linear(hidden2, out_features)\n",
    "        \n",
    "    def forward(self, x):\n",
    "        x = F.relu(self.f_connected1(x))\n",
    "        x = F.relu(self.f_connected2(x))\n",
    "        x = self.out(x)\n",
    "        return x\n",
    "        "
   ]
  },
  {
   "cell_type": "code",
   "execution_count": 44,
   "metadata": {},
   "outputs": [],
   "source": [
    "torch.manual_seed(20)\n",
    "ann = SimpleANN()"
   ]
  },
  {
   "cell_type": "code",
   "execution_count": 45,
   "metadata": {},
   "outputs": [
    {
     "data": {
      "text/plain": [
       "<bound method Module.parameters of SimpleANN(\n",
       "  (f_connected1): Linear(in_features=8, out_features=20, bias=True)\n",
       "  (f_connected2): Linear(in_features=20, out_features=20, bias=True)\n",
       "  (out): Linear(in_features=20, out_features=2, bias=True)\n",
       ")>"
      ]
     },
     "execution_count": 45,
     "metadata": {},
     "output_type": "execute_result"
    }
   ],
   "source": [
    "ann.parameters"
   ]
  },
  {
   "cell_type": "code",
   "execution_count": 46,
   "metadata": {},
   "outputs": [
    {
     "data": {
      "text/plain": [
       "<generator object Module.parameters at 0x0000021B429F23C8>"
      ]
     },
     "execution_count": 46,
     "metadata": {},
     "output_type": "execute_result"
    }
   ],
   "source": [
    "ann.parameters()"
   ]
  },
  {
   "cell_type": "code",
   "execution_count": 47,
   "metadata": {},
   "outputs": [],
   "source": [
    "loss_function=nn.CrossEntropyLoss()\n",
    "optim = torch.optim.Adam(ann.parameters(), lr=0.01)"
   ]
  },
  {
   "cell_type": "code",
   "execution_count": 50,
   "metadata": {},
   "outputs": [
    {
     "name": "stdout",
     "output_type": "stream",
     "text": [
      "Epoch: 100 | Loss: 0.045157719403505325\n",
      "Epoch: 200 | Loss: 0.04916921257972717\n",
      "Epoch: 300 | Loss: 0.03712378814816475\n",
      "Epoch: 400 | Loss: 0.03592152148485184\n",
      "Epoch: 500 | Loss: 0.06637702882289886\n",
      "Epoch: 600 | Loss: 0.036677904427051544\n",
      "Epoch: 700 | Loss: 0.03517129272222519\n",
      "Epoch: 800 | Loss: 0.2226213812828064\n",
      "Epoch: 900 | Loss: 0.035687804222106934\n",
      "Epoch: 1000 | Loss: 0.03305618464946747\n",
      "Epoch: 1100 | Loss: 0.18477801978588104\n",
      "Epoch: 1200 | Loss: 0.033650752156972885\n",
      "Epoch: 1300 | Loss: 0.03154641389846802\n",
      "Epoch: 1400 | Loss: 0.06353924423456192\n",
      "Epoch: 1500 | Loss: 0.03416823223233223\n",
      "Epoch: 1600 | Loss: 0.031002333387732506\n",
      "Epoch: 1700 | Loss: 0.030329713597893715\n",
      "Epoch: 1800 | Loss: 0.03688303381204605\n",
      "Epoch: 1900 | Loss: 0.03076660819351673\n",
      "Epoch: 2000 | Loss: 0.02913113683462143\n",
      "Epoch: 2100 | Loss: 0.027880068868398666\n",
      "Epoch: 2200 | Loss: 0.027127785608172417\n",
      "Epoch: 2300 | Loss: 0.03550487756729126\n",
      "Epoch: 2400 | Loss: 0.04352021589875221\n",
      "Epoch: 2500 | Loss: 0.06621376425027847\n",
      "Epoch: 2600 | Loss: 0.041857149451971054\n",
      "Epoch: 2700 | Loss: 0.03803306445479393\n",
      "Epoch: 2800 | Loss: 0.026315419003367424\n",
      "Epoch: 2900 | Loss: 0.024808548390865326\n",
      "Epoch: 3000 | Loss: 0.02376936562359333\n",
      "Epoch: 3100 | Loss: 0.024091772735118866\n",
      "Epoch: 3200 | Loss: 0.03250426799058914\n",
      "Epoch: 3300 | Loss: 0.026014164090156555\n",
      "Epoch: 3400 | Loss: 0.02465045638382435\n",
      "Epoch: 3500 | Loss: 0.02356773056089878\n",
      "Epoch: 3600 | Loss: 0.02256312407553196\n",
      "Epoch: 3700 | Loss: 0.19739286601543427\n",
      "Epoch: 3800 | Loss: 0.025036320090293884\n",
      "Epoch: 3900 | Loss: 0.023152943700551987\n",
      "Epoch: 4000 | Loss: 0.022140808403491974\n",
      "Epoch: 4100 | Loss: 0.021587170660495758\n",
      "Epoch: 4200 | Loss: 1.0776625871658325\n",
      "Epoch: 4300 | Loss: 0.03235533833503723\n",
      "Epoch: 4400 | Loss: 0.022978581488132477\n",
      "Epoch: 4500 | Loss: 0.021645449101924896\n",
      "Epoch: 4600 | Loss: 0.02071799524128437\n",
      "Epoch: 4700 | Loss: 0.02263469621539116\n",
      "Epoch: 4800 | Loss: 0.024990469217300415\n",
      "Epoch: 4900 | Loss: 0.02183852158486843\n",
      "Epoch: 5000 | Loss: 0.0209039356559515\n",
      "Epoch: 5100 | Loss: 0.020003799349069595\n",
      "Epoch: 5200 | Loss: 0.20570719242095947\n",
      "Epoch: 5300 | Loss: 0.021447351202368736\n",
      "Epoch: 5400 | Loss: 0.020213807001709938\n",
      "Epoch: 5500 | Loss: 0.019395826384425163\n",
      "Epoch: 5600 | Loss: 0.018841492012143135\n",
      "Epoch: 5700 | Loss: 0.027143044397234917\n",
      "Epoch: 5800 | Loss: 0.022961853072047234\n",
      "Epoch: 5900 | Loss: 0.02167968451976776\n",
      "Epoch: 6000 | Loss: 0.019424136728048325\n",
      "Epoch: 6100 | Loss: 0.018648378551006317\n",
      "Epoch: 6200 | Loss: 0.018014321103692055\n",
      "Epoch: 6300 | Loss: 0.02890065871179104\n",
      "Epoch: 6400 | Loss: 0.01962563395500183\n",
      "Epoch: 6500 | Loss: 0.018527688458561897\n",
      "Epoch: 6600 | Loss: 0.017790455371141434\n",
      "Epoch: 6700 | Loss: 0.6101172566413879\n",
      "Epoch: 6800 | Loss: 0.019103335216641426\n",
      "Epoch: 6900 | Loss: 0.017544981092214584\n",
      "Epoch: 7000 | Loss: 0.016745738685131073\n",
      "Epoch: 7100 | Loss: 0.016777249053120613\n",
      "Epoch: 7200 | Loss: 0.14594566822052002\n",
      "Epoch: 7300 | Loss: 0.019291633740067482\n",
      "Epoch: 7400 | Loss: 0.01785976253449917\n",
      "Epoch: 7500 | Loss: 0.01691596210002899\n",
      "Epoch: 7600 | Loss: 0.016433624550700188\n",
      "Epoch: 7700 | Loss: 0.14903217554092407\n",
      "Epoch: 7800 | Loss: 0.01796484924852848\n",
      "Epoch: 7900 | Loss: 0.016567407175898552\n",
      "Epoch: 8000 | Loss: 0.01569569669663906\n",
      "Epoch: 8100 | Loss: 0.014993192628026009\n",
      "Epoch: 8200 | Loss: 0.015207256190478802\n",
      "Epoch: 8300 | Loss: 0.026455987244844437\n",
      "Epoch: 8400 | Loss: 0.01941320113837719\n",
      "Epoch: 8500 | Loss: 0.04616067558526993\n",
      "Epoch: 8600 | Loss: 0.01736096665263176\n",
      "Epoch: 8700 | Loss: 0.017092855647206306\n",
      "Epoch: 8800 | Loss: 0.01623019017279148\n",
      "Epoch: 8900 | Loss: 0.015617200173437595\n",
      "Epoch: 9000 | Loss: 0.015313075855374336\n",
      "Epoch: 9100 | Loss: 0.029980845749378204\n",
      "Epoch: 9200 | Loss: 0.014123114757239819\n",
      "Epoch: 9300 | Loss: 0.05258714780211449\n",
      "Epoch: 9400 | Loss: 0.015368529595434666\n",
      "Epoch: 9500 | Loss: 0.013951621949672699\n",
      "Epoch: 9600 | Loss: 0.013120719231665134\n",
      "Epoch: 9700 | Loss: 0.01246051024645567\n",
      "Epoch: 9800 | Loss: 0.011860552243888378\n",
      "Epoch: 9900 | Loss: 0.01132863387465477\n",
      "Epoch: 10000 | Loss: 0.012867830693721771\n",
      "time taken: 25.360177755355835\n"
     ]
    }
   ],
   "source": [
    "import time\n",
    "start = time.time()\n",
    "epochs=10000\n",
    "final_loss=[]\n",
    "\n",
    "for i in range(epochs):\n",
    "    \n",
    "    y_pred=ann.forward(X_train)\n",
    "    loss=loss_function(y_pred,y_train)\n",
    "    \n",
    "    final_loss.append(loss)\n",
    "    \n",
    "    if (i+1)%100 == 0:\n",
    "        print(f\"Epoch: {i+1} | Loss: {loss}\")\n",
    "        \n",
    "    optim.zero_grad()\n",
    "    loss.backward()\n",
    "    optim.step()\n",
    "    \n",
    "end = time.time()\n",
    "\n",
    "print(\"time taken:\", end-start)"
   ]
  },
  {
   "cell_type": "code",
   "execution_count": null,
   "metadata": {},
   "outputs": [],
   "source": []
  }
 ],
 "metadata": {
  "kernelspec": {
   "display_name": "tensor",
   "language": "python",
   "name": "python3"
  },
  "language_info": {
   "codemirror_mode": {
    "name": "ipython",
    "version": 3
   },
   "file_extension": ".py",
   "mimetype": "text/x-python",
   "name": "python",
   "nbconvert_exporter": "python",
   "pygments_lexer": "ipython3",
   "version": "3.7.13"
  },
  "orig_nbformat": 4,
  "vscode": {
   "interpreter": {
    "hash": "11cea9024f0d377440eaba48e9d7655bc3e56224c5f426395ac9dffd0677d0c7"
   }
  }
 },
 "nbformat": 4,
 "nbformat_minor": 2
}
